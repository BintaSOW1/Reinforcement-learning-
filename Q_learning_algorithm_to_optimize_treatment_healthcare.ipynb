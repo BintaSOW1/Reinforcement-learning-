{
  "nbformat": 4,
  "nbformat_minor": 0,
  "metadata": {
    "colab": {
      "provenance": []
    },
    "kernelspec": {
      "name": "python3",
      "display_name": "Python 3"
    },
    "language_info": {
      "name": "python"
    }
  },
  "cells": [
    {
      "cell_type": "code",
      "source": [
        "import gym\n",
        "import numpy as np\n",
        "\n",
        "# Create a custom Gym environment for treatment plan optimization\n",
        "class HealthcareEnv(gym.Env):\n",
        "    def __init__(self):\n",
        "        # Define the action and state spaces\n",
        "        self.action_space = gym.spaces.Discrete(3)  # Three treatment options: A, B, C\n",
        "        self.observation_space = gym.spaces.Discrete(5)  # Five patient states: S1, S2, S3, S4, S5\n",
        "        \n",
        "        # Define other environment-specific variables\n",
        "        \n",
        "        self.max_steps = 10  # Maximum number of steps in each episode\n",
        "        self.current_step = 0  # Current step count\n",
        "        \n",
        "        self.state = None  # Current state\n",
        "        \n",
        "    def reset(self):\n",
        "        # Reset the environment to the initial state\n",
        "        self.current_step = 0\n",
        "        self.state = self.observation_space.sample()  # Initialize the state randomly\n",
        "        \n",
        "        return self.state\n",
        "    \n",
        "    def step(self, action):\n",
        "        # Execute the chosen action\n",
        "        # Calculate the reward based on the treatment outcome and patient state\n",
        "        # Update the patient state based on the chosen action\n",
        "        # Return the next state observation, reward, termination flag, and additional information\n",
        "        \n",
        "        # Check if the maximum number of steps is reached\n",
        "        if self.current_step >= self.max_steps:\n",
        "            done = True\n",
        "        else:\n",
        "            done = False\n",
        "        \n",
        "        # Update the patient state based on the chosen action\n",
        "        # You can customize this based on your specific healthcare problem\n",
        "        if self.state == 1 and action == 0:  # Example: if in state S1 and action A is chosen\n",
        "            reward = 1  # Example: reward of 1 for a successful treatment\n",
        "            self.state = 2  # Example: transition to state S2\n",
        "        else:\n",
        "            reward = 0  # Example: reward of 0 for unsuccessful treatment\n",
        "        \n",
        "        self.current_step += 1\n",
        "        \n",
        "        return self.state, reward, done, {}\n"
      ],
      "metadata": {
        "id": "6Kd-ln31eT4r"
      },
      "execution_count": 6,
      "outputs": []
    },
    {
      "cell_type": "code",
      "source": [
        "# Q-learning algorithm implementation\n",
        "def q_learning(env, num_episodes, learning_rate, discount_factor, epsilon):\n",
        "    q_table = np.zeros((env.observation_space.n, env.action_space.n))\n",
        "    \n",
        "    for episode in range(num_episodes):\n",
        "        state = env.reset()\n",
        "        done = False\n",
        "        \n",
        "        while not done:\n",
        "            if np.random.uniform(0, 1) < epsilon:\n",
        "                action = env.action_space.sample()  # Explore: choose a random action\n",
        "            else:\n",
        "                action = np.argmax(q_table[state])  # Exploit: choose the action with the highest Q-value\n",
        "            \n",
        "            next_state, reward, done, _ = env.step(action)\n",
        "            \n",
        "            # Q-Learning update equation\n",
        "            q_table[state, action] += learning_rate * (reward + discount_factor * np.max(q_table[next_state]) - q_table[state, action])\n",
        "            \n",
        "            state = next_state\n",
        "    \n",
        "    return q_table\n",
        "\n",
        "# Initialize the custom Healthcare environment\n",
        "env = HealthcareEnv()\n",
        "\n",
        "# Set hyperparameters\n",
        "num_episodes = 100\n",
        "learning_rate = 0.1\n",
        "discount_factor = 0.9\n",
        "epsilon = 0.1\n",
        "\n",
        "# Train the Q-learning model\n",
        "q_table = q_learning(env, num_episodes, learning_rate, discount_factor, epsilon)\n",
        "\n",
        "# Use the learned Q-table to make treatment decisions\n",
        "state = env.reset()\n",
        "done = False\n",
        "total_reward = 0\n",
        "\n",
        "while not done:\n",
        "    action = np.argmax(q_table[state])\n",
        "    next_state, reward, done, _ = env.step(action)\n",
        "    total_reward += reward\n",
        "    state = next_state\n",
        "\n",
        "# Print the total reward achieved by the learned treatment plan\n",
        "print(\"Total Reward:\", total_reward)\n"
      ],
      "metadata": {
        "colab": {
          "base_uri": "https://localhost:8080/"
        },
        "id": "CBlaXmB2etzD",
        "outputId": "db65878c-6060-4fdd-e8b9-6659fbd3a7bc"
      },
      "execution_count": 9,
      "outputs": [
        {
          "output_type": "stream",
          "name": "stdout",
          "text": [
            "Total Reward: 7\n"
          ]
        }
      ]
    }
  ]
}