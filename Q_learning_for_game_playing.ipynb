{
  "nbformat": 4,
  "nbformat_minor": 0,
  "metadata": {
    "colab": {
      "provenance": []
    },
    "kernelspec": {
      "name": "python3",
      "display_name": "Python 3"
    },
    "language_info": {
      "name": "python"
    }
  },
  "cells": [
    {
      "cell_type": "code",
      "execution_count": null,
      "metadata": {
        "id": "vzUFCpdTgxUW"
      },
      "outputs": [],
      "source": [
        "import numpy as np\n",
        "\n",
        "# Game Environment Setup\n",
        "game_environment = [\n",
        "    [0, 0, 0, 0],\n",
        "    [0, -1, 0, -1],\n",
        "    [0, 0, 0, 0],\n",
        "    [-1, 0, 0, 1]\n",
        "]\n",
        "\n",
        "# Q-Table Initialization\n",
        "num_states = len(game_environment)\n",
        "num_actions = 4  # 4 possible actions: up, down, left, right\n",
        "q_table = np.zeros((num_states, num_actions))\n",
        "\n",
        "# Hyperparameters\n",
        "learning_rate = 0.1\n",
        "discount_factor = 0.9\n",
        "epsilon = 0.1\n",
        "num_episodes = 1000\n",
        "\n",
        "# Training Loop\n",
        "for episode in range(num_episodes):\n",
        "    state = 0  # Start from the initial state\n",
        "    done = False\n",
        "\n",
        "    while not done:\n",
        "        # Exploration vs. Exploitation\n",
        "        if np.random.uniform(0, 1) < epsilon:\n",
        "            action = np.random.randint(num_actions)  # Explore: choose a random action\n",
        "        else:\n",
        "            action = np.argmax(q_table[state])  # Exploit: choose the action with the highest Q-value\n",
        "\n",
        "        next_state = action  # Assume the next state is determined by the chosen action\n",
        "        reward = game_environment[state][action]\n",
        "        \n",
        "        # Q-Learning Update Equation\n",
        "        q_table[state][action] += learning_rate * (reward + discount_factor * np.max(q_table[next_state]) - q_table[state][action])\n",
        "\n",
        "        state = next_state\n",
        "\n",
        "        if reward == 1 or reward == -1:\n",
        "            done = True\n",
        "\n",
        "# Evaluation\n",
        "total_score = 0\n",
        "num_episodes = 100\n",
        "\n",
        "for episode in range(num_episodes):\n",
        "    state = 0  # Start from the initial state\n",
        "    done = False\n",
        "    score = 0\n",
        "\n",
        "    while not done:\n",
        "        action = np.argmax(q_table[state])  # Choose the action with the highest Q-value\n",
        "        next_state = action\n",
        "        reward = game_environment[state][action]\n",
        "\n",
        "        state = next_state\n",
        "        score += reward\n",
        "\n",
        "        if reward == 1 or reward == -1:\n",
        "            done = True\n",
        "\n",
        "    total_score += score\n",
        "\n",
        "average_score = total_score / num_episodes\n",
        "print(\"Average Score:\", average_score)\n"
      ]
    }
  ]
}